{
 "cells": [
  {
   "cell_type": "code",
   "execution_count": 1,
   "id": "b0464d9b-48c2-4ff4-991c-4fb1a17ede02",
   "metadata": {},
   "outputs": [],
   "source": [
    "import os\n",
    "import pandas as pd\n",
    "from moviepy.editor import VideoFileClip\n",
    "from tqdm.auto import tqdm"
   ]
  },
  {
   "cell_type": "code",
   "execution_count": 2,
   "id": "49387d85-377b-482f-9887-5c8851dd9cfd",
   "metadata": {},
   "outputs": [
    {
     "data": {
      "text/html": [
       "<div>\n",
       "<style scoped>\n",
       "    .dataframe tbody tr th:only-of-type {\n",
       "        vertical-align: middle;\n",
       "    }\n",
       "\n",
       "    .dataframe tbody tr th {\n",
       "        vertical-align: top;\n",
       "    }\n",
       "\n",
       "    .dataframe thead th {\n",
       "        text-align: right;\n",
       "    }\n",
       "</style>\n",
       "<table border=\"1\" class=\"dataframe\">\n",
       "  <thead>\n",
       "    <tr style=\"text-align: right;\">\n",
       "      <th></th>\n",
       "      <th>Video Name</th>\n",
       "      <th>Sentences</th>\n",
       "    </tr>\n",
       "  </thead>\n",
       "  <tbody>\n",
       "    <tr>\n",
       "      <th>0</th>\n",
       "      <td>1.mp4</td>\n",
       "      <td>.انا اسمى حسام حسن</td>\n",
       "    </tr>\n",
       "    <tr>\n",
       "      <th>1</th>\n",
       "      <td>2.mp4</td>\n",
       "      <td>.انا عندى 17 سنة</td>\n",
       "    </tr>\n",
       "    <tr>\n",
       "      <th>2</th>\n",
       "      <td>3.mp4</td>\n",
       "      <td>انت عامل ايه ؟</td>\n",
       "    </tr>\n",
       "    <tr>\n",
       "      <th>3</th>\n",
       "      <td>4.mp4</td>\n",
       "      <td>.هنا مدرسة الأمل للصم</td>\n",
       "    </tr>\n",
       "    <tr>\n",
       "      <th>4</th>\n",
       "      <td>5.mp4</td>\n",
       "      <td>.الحمدلله</td>\n",
       "    </tr>\n",
       "    <tr>\n",
       "      <th>...</th>\n",
       "      <td>...</td>\n",
       "      <td>...</td>\n",
       "    </tr>\n",
       "    <tr>\n",
       "      <th>594</th>\n",
       "      <td>605.mp4</td>\n",
       "      <td>ربنا معاك</td>\n",
       "    </tr>\n",
       "    <tr>\n",
       "      <th>595</th>\n",
       "      <td>606.mp4</td>\n",
       "      <td>انا احب رياضه كره القدم</td>\n",
       "    </tr>\n",
       "    <tr>\n",
       "      <th>596</th>\n",
       "      <td>607.mp4</td>\n",
       "      <td>انا جامعه عين شمس</td>\n",
       "    </tr>\n",
       "    <tr>\n",
       "      <th>597</th>\n",
       "      <td>608.mp4</td>\n",
       "      <td>اللون غامق اللون فاتح</td>\n",
       "    </tr>\n",
       "    <tr>\n",
       "      <th>598</th>\n",
       "      <td>609.mp4</td>\n",
       "      <td>انا ادخل الحمام</td>\n",
       "    </tr>\n",
       "  </tbody>\n",
       "</table>\n",
       "<p>599 rows × 2 columns</p>\n",
       "</div>"
      ],
      "text/plain": [
       "    Video Name                Sentences\n",
       "0        1.mp4       .انا اسمى حسام حسن\n",
       "1        2.mp4         .انا عندى 17 سنة\n",
       "2        3.mp4           انت عامل ايه ؟\n",
       "3        4.mp4    .هنا مدرسة الأمل للصم\n",
       "4        5.mp4                .الحمدلله\n",
       "..         ...                      ...\n",
       "594    605.mp4                ربنا معاك\n",
       "595    606.mp4  انا احب رياضه كره القدم\n",
       "596    607.mp4        انا جامعه عين شمس\n",
       "597    608.mp4    اللون غامق اللون فاتح\n",
       "598    609.mp4          انا ادخل الحمام\n",
       "\n",
       "[599 rows x 2 columns]"
      ]
     },
     "execution_count": 2,
     "metadata": {},
     "output_type": "execute_result"
    }
   ],
   "source": [
    "# Load the DataFrame containing the video paths\n",
    "df = pd.read_csv('Filtered.csv')  # Adjust the path to your DataFrame\n",
    "df"
   ]
  },
  {
   "cell_type": "code",
   "execution_count": 3,
   "id": "7b182dbe-0257-4f1d-8b81-da154acb7c46",
   "metadata": {},
   "outputs": [],
   "source": [
    "# Define the output folder\n",
    "output_folder = 'Resized_Videos'\n",
    "os.makedirs(output_folder, exist_ok=True)"
   ]
  },
  {
   "cell_type": "code",
   "execution_count": 4,
   "id": "0cf031ca-463a-418f-8361-f4744ab6a5a7",
   "metadata": {},
   "outputs": [],
   "source": [
    "# Define the target frame rate and resolution\n",
    "target_fps = 24\n",
    "target_resolution = (680, 480)"
   ]
  },
  {
   "cell_type": "code",
   "execution_count": null,
   "id": "99503854-6d85-49d6-9b78-421b24626def",
   "metadata": {},
   "outputs": [
    {
     "data": {
      "application/vnd.jupyter.widget-view+json": {
       "model_id": "36457e427cbf4cb4b055b8c8cd033270",
       "version_major": 2,
       "version_minor": 0
      },
      "text/plain": [
       "  0%|          | 0/599 [00:00<?, ?it/s]"
      ]
     },
     "metadata": {},
     "output_type": "display_data"
    }
   ],
   "source": [
    "# Process each video\n",
    "for index, row in tqdm(df.iterrows(),total=len(df)):\n",
    "    video_path = r'C:\\Users\\Windows\\Videos\\ISHARA\\avgVids\\\\' + row['Video Name']\n",
    "    try:\n",
    "        # Load the video\n",
    "        clip = VideoFileClip(video_path)\n",
    "        \n",
    "        # Resize the video\n",
    "        clip_resized = clip.resize(newsize=target_resolution)\n",
    "        \n",
    "        # Set the frame rate\n",
    "        clip_resized = clip_resized.set_fps(target_fps)\n",
    "        \n",
    "        # Define the output path\n",
    "        output_path = os.path.join(output_folder, os.path.basename(video_path))\n",
    "        # # print(output_path)\n",
    "        # os.makedirs(os.path.join(output_folder, exist_ok=True)\n",
    "        # Write the video to the output path\n",
    "        clip_resized.write_videofile(output_path, codec='libx264',audio=False,logger=None)\n",
    "        \n",
    "        # Close the clip to release resources\n",
    "        clip.close()\n",
    "        clip_resized.close()\n",
    "    except Exception as e:\n",
    "        print(f\"Error processing {video_path}: {e}\")"
   ]
  },
  {
   "cell_type": "code",
   "execution_count": null,
   "id": "b904bcb4-10b6-4788-b796-c76891c75684",
   "metadata": {},
   "outputs": [],
   "source": []
  }
 ],
 "metadata": {
  "kernelspec": {
   "display_name": "Python 3 (ipykernel)",
   "language": "python",
   "name": "python3"
  },
  "language_info": {
   "codemirror_mode": {
    "name": "ipython",
    "version": 3
   },
   "file_extension": ".py",
   "mimetype": "text/x-python",
   "name": "python",
   "nbconvert_exporter": "python",
   "pygments_lexer": "ipython3",
   "version": "3.10.14"
  }
 },
 "nbformat": 4,
 "nbformat_minor": 5
}
