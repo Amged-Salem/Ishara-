{
 "cells": [
  {
   "cell_type": "code",
   "execution_count": 1,
   "id": "d22caa33-8dde-47d4-97b4-73b044940216",
   "metadata": {},
   "outputs": [
    {
     "data": {
      "application/vnd.jupyter.widget-view+json": {
       "model_id": "65f68d9bc66c42d5848b227218d16bfe",
       "version_major": 2,
       "version_minor": 0
      },
      "text/plain": [
       "  0%|          | 0/599 [00:00<?, ?it/s]"
      ]
     },
     "metadata": {},
     "output_type": "display_data"
    }
   ],
   "source": [
    "import os\n",
    "import cv2\n",
    "import random\n",
    "from moviepy.editor import VideoFileClip\n",
    "from tqdm.auto import tqdm\n",
    "import numpy as np\n",
    "import math\n",
    "# Input and output directories\n",
    "input_folder = r'Resized_Videos'\n",
    "output_folder = r'Videos\\COMBINED_1'\n",
    "\n",
    "# Create output folder if it doesn't exist\n",
    "if not os.path.exists(output_folder):\n",
    "    os.makedirs(output_folder)\n",
    "\n",
    "# Define the augmentation parameters\n",
    "zoom_range = (1, 1.5)\n",
    "shear_range = (-20, 20)\n",
    "speed_range = (0.75, 1.25)\n",
    "\n",
    "# Process each video file in the input folder\n",
    "for filename in tqdm(os.listdir(input_folder)):\n",
    "    if filename.endswith(\"mp4\"):  # Check for AVI files\n",
    "        # Load the video\n",
    "        input_path = os.path.join(input_folder, filename)\n",
    "        cap = cv2.VideoCapture(input_path)\n",
    "        fps = cap.get(cv2.CAP_PROP_FPS)\n",
    "        width = int(cap.get(cv2.CAP_PROP_FRAME_WIDTH))\n",
    "        height = int(cap.get(cv2.CAP_PROP_FRAME_HEIGHT))\n",
    "        \n",
    "        # Apply zooming\n",
    "        zoom_factor = random.uniform(zoom_range[0], zoom_range[1])\n",
    "        resized_width = int(width * zoom_factor)\n",
    "        resized_height = int(height * zoom_factor)\n",
    "        zoom_M = cv2.getAffineTransform(\n",
    "            src=np.float32([[0, 0], [width, 0], [0, height]]),\n",
    "            dst=np.float32([[0, 0], [resized_width, 0], [0, resized_height]])\n",
    "        )\n",
    "\n",
    "        # Apply shearing\n",
    "        shear_angle = random.uniform(shear_range[0], shear_range[1])\n",
    "        shear_M = cv2.getAffineTransform(\n",
    "            src=np.float32([[0, 0], [width, 0], [0, height]]),\n",
    "            dst=np.float32([[0, 0], [width, width * math.tan(np.radians(shear_angle))], [0, height]])\n",
    "        )\n",
    "\n",
    "        # Output video writer\n",
    "        output_path = os.path.join(output_folder, filename)\n",
    "        fourcc = cv2.VideoWriter_fourcc(*'XVID')\n",
    "        out = cv2.VideoWriter(output_path, fourcc, fps, (resized_width, resized_height))\n",
    "        flip_integer = random.randint(0, 1)\n",
    "        # Apply transformations to each frame\n",
    "        while cap.isOpened():\n",
    "            ret, frame = cap.read()\n",
    "\n",
    "            if ret:\n",
    "                # Apply zooming and shearing to the frame\n",
    "                if flip_integer : \n",
    "                    frame = cv2.flip(frame, 1)\n",
    "                zoomed_frame = cv2.warpAffine(frame, zoom_M, (resized_width, resized_height))\n",
    "                zoomed_sheared_frame = cv2.warpAffine(zoomed_frame, shear_M, (resized_width, resized_height))\n",
    "                out.write(zoomed_sheared_frame)\n",
    "            else:\n",
    "                break\n",
    "\n",
    "        # Release resources\n",
    "        cap.release()\n",
    "        out.release()\n"
   ]
  },
  {
   "cell_type": "code",
   "execution_count": 2,
   "id": "9eaf0a53-3df8-4571-bf51-79de64f3f16e",
   "metadata": {},
   "outputs": [
    {
     "data": {
      "text/plain": [
       "1"
      ]
     },
     "execution_count": 2,
     "metadata": {},
     "output_type": "execute_result"
    }
   ],
   "source": [
    "random.randint(0, 1)"
   ]
  },
  {
   "cell_type": "code",
   "execution_count": 1,
   "id": "d7a95db4-c468-46c0-b2b3-7c52baecefea",
   "metadata": {},
   "outputs": [],
   "source": [
    "import os\n",
    "import cv2\n",
    "import random\n",
    "from moviepy.editor import VideoFileClip\n",
    "from tqdm.auto import tqdm\n",
    "import numpy as np\n",
    "import math\n",
    "def speed_videos (input_folder,output_folder):\n",
    "    # Create output folder if it doesn't exist\n",
    "    if not os.path.exists(output_folder):\n",
    "        os.makedirs(output_folder)\n",
    "\n",
    "    speed_range = (0.75,1.25) \n",
    "    \n",
    "    # Process each video file in the input folder\n",
    "    for filename in tqdm(os.listdir(input_folder)):\n",
    "        speed = random.uniform(*speed_range)\n",
    "        if filename.endswith(\"mp4\"):  # Check for AVI files\n",
    "            # Load the video\n",
    "            input_path = os.path.join(input_folder, filename)\n",
    "            clip = VideoFileClip(input_path)\n",
    "            \n",
    "            # Calculate the new duration of each frame\n",
    "            new_duration = clip.duration / speed\n",
    "            \n",
    "            # Speed up the video by adjusting the duration of each frame\n",
    "            new_clip = clip.fl_time(lambda t: t * speed)\n",
    "            \n",
    "            \n",
    "            # Set the duration of each frame to the calculated value\n",
    "            new_clip = new_clip.set_duration(new_duration)\n",
    "            \n",
    "            # Define the output path with AVI extension\n",
    "            output_path = os.path.join(output_folder, filename)\n",
    "            output_path = os.path.splitext(output_path)[0] + \".mp4\"\n",
    "            \n",
    "            # Export the modified video in AVI format without audio and no logging\n",
    "            new_clip.write_videofile(output_path, codec='libx264', audio=False, logger=None)"
   ]
  },
  {
   "cell_type": "code",
   "execution_count": 2,
   "id": "ddbc5a4d-4160-445d-ba7f-22d194584695",
   "metadata": {},
   "outputs": [],
   "source": [
    "input_folder = r'Videos\\COMBINED_1'\n",
    "output_folder = r'Videos\\SPEED_COMBINED_1'"
   ]
  },
  {
   "cell_type": "code",
   "execution_count": 3,
   "id": "52f2bbb5-f9b4-47bb-b712-dfb9319c9edf",
   "metadata": {},
   "outputs": [
    {
     "data": {
      "application/vnd.jupyter.widget-view+json": {
       "model_id": "0b7c8e593ec64a14b18f33103c081065",
       "version_major": 2,
       "version_minor": 0
      },
      "text/plain": [
       "  0%|          | 0/599 [00:00<?, ?it/s]"
      ]
     },
     "metadata": {},
     "output_type": "display_data"
    }
   ],
   "source": [
    "speed_videos (input_folder,output_folder)"
   ]
  },
  {
   "cell_type": "code",
   "execution_count": null,
   "id": "4065c5e3-ddbf-403d-939a-0d296a41db2a",
   "metadata": {},
   "outputs": [],
   "source": []
  }
 ],
 "metadata": {
  "kernelspec": {
   "display_name": "Python 3 (ipykernel)",
   "language": "python",
   "name": "python3"
  },
  "language_info": {
   "codemirror_mode": {
    "name": "ipython",
    "version": 3
   },
   "file_extension": ".py",
   "mimetype": "text/x-python",
   "name": "python",
   "nbconvert_exporter": "python",
   "pygments_lexer": "ipython3",
   "version": "3.10.14"
  }
 },
 "nbformat": 4,
 "nbformat_minor": 5
}
